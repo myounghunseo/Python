{
 "cells": [
  {
   "cell_type": "markdown",
   "metadata": {},
   "source": [
    "### summary\n",
    "- function\n",
    "    - docstring\n",
    "    - scope : 전역, 지역 : global\n",
    "    - inner function : 함수안에 함수를 선언\n",
    "    - lambda function : 간략한 함수를 한줄의 코드로 작성\n",
    "    - decorlator : 특정 기능을 데코레이터 함수로 만들어 함수에 특정 기능을 적용하는 방법\n",
    "- class\n",
    "    - 변수와 함수들이 모여있는 집합\n",
    "    - 기본 클래스 사용법\n",
    "        - 클래스 선언 -> 객체로 만듦 -> 객체에 함수를 호출\n",
    "    - 생성자 함수\n",
    "        - 클래스가 객체로 만들어질때 객체에 선언되는 변수를 설정하는 방법"
   ]
  },
  {
   "cell_type": "code",
   "execution_count": 6,
   "metadata": {},
   "outputs": [],
   "source": [
    "user_datas = [\n",
    "    { \"user\": \"test\", \"pw\": \"1234\", \"count\": 0 },\n",
    "    { \"user\": \"python\", \"pw\": \"5678\", \"count\": 0 },\n",
    "]"
   ]
  },
  {
   "cell_type": "code",
   "execution_count": 16,
   "metadata": {},
   "outputs": [
    {
     "name": "stdout",
     "output_type": "stream",
     "text": [
      "[0, 1, 2]\n",
      "[(0, 'a'), (1, 'b'), (2, 'c')]\n",
      "0 a\n",
      "1 b\n",
      "2 c\n"
     ]
    }
   ],
   "source": [
    "ls = [\"a\", \"b\", \"c\"]\n",
    "print(list(range(len(ls))))\n",
    "print(list(zip(range(len(ls)), ls)))\n",
    "for idx, data in list(zip(range(len(ls)), ls)):\n",
    "    print(idx, data)"
   ]
  },
  {
   "cell_type": "code",
   "execution_count": 24,
   "metadata": {},
   "outputs": [
    {
     "data": {
      "text/plain": [
       "[(0, {'user': 'test', 'pw': '1234', 'count': 0}),\n",
       " (1, {'user': 'python', 'pw': '5678', 'count': 2})]"
      ]
     },
     "execution_count": 24,
     "metadata": {},
     "output_type": "execute_result"
    }
   ],
   "source": [
    "list(enumerate(user_datas))"
   ]
  },
  {
   "cell_type": "code",
   "execution_count": 25,
   "metadata": {},
   "outputs": [],
   "source": [
    "# user data 를 입력 받아서 아이디와 패스워드를 체크하는 데코레이터 함수를 코드로 작성하세요.\n",
    "# 로그인 될때마다 count를 1씩 증가\n",
    "def need_login(func):\n",
    "    def wrapper(*args, **kwargs):\n",
    "        # 아이디 패스워드 입력\n",
    "        user, pw = tuple(input(\"insert user pw : \").split(\" \"))\n",
    "        \n",
    "        # 존재하는 아이디, 패스워드 확인\n",
    "        # for idx, user_data in zip(range(len(user_datas)), user_datas):\n",
    "        for idx, user_data in enumerate(user_datas):\n",
    "            \n",
    "            if (user_data[\"user\"] == user) and (user_data[\"pw\"] == pw):\n",
    "                \n",
    "                # count 데이터 추가 \n",
    "                user_datas[idx][\"count\"] += 1\n",
    "                \n",
    "                # 함수 실행\n",
    "                return func(*args, **kwargs)\n",
    "            \n",
    "        return \"wrong login data!\"\n",
    "    return wrapper"
   ]
  },
  {
   "cell_type": "code",
   "execution_count": 26,
   "metadata": {},
   "outputs": [],
   "source": [
    "@need_login\n",
    "def plus(num1, num2):\n",
    "    return num1 + num2"
   ]
  },
  {
   "cell_type": "code",
   "execution_count": 29,
   "metadata": {},
   "outputs": [
    {
     "name": "stdout",
     "output_type": "stream",
     "text": [
      "insert user pw : python 5678\n"
     ]
    },
    {
     "data": {
      "text/plain": [
       "3"
      ]
     },
     "execution_count": 29,
     "metadata": {},
     "output_type": "execute_result"
    }
   ],
   "source": [
    "plus(1, 2)"
   ]
  },
  {
   "cell_type": "code",
   "execution_count": 30,
   "metadata": {},
   "outputs": [
    {
     "data": {
      "text/plain": [
       "[{'user': 'test', 'pw': '1234', 'count': 1},\n",
       " {'user': 'python', 'pw': '5678', 'count': 3}]"
      ]
     },
     "execution_count": 30,
     "metadata": {},
     "output_type": "execute_result"
    }
   ],
   "source": [
    "user_datas"
   ]
  },
  {
   "cell_type": "code",
   "execution_count": 31,
   "metadata": {},
   "outputs": [],
   "source": [
    "# 스타크래프트의 마린을 클래스로 설계\n",
    "# 체력(health : 40), 공격력(attack_pow : 5), 공격(attack())\n",
    "# 마린 클래스로 마린 객체 2개를 생성해서 마린 1이 마린 2를 공격하는 코드를 작성\n",
    "# attack(self, unit)\n",
    "# 체력이 0인 경우 \"사망\"을 출력하고 체력이 (-)가 되지 않도록 코드를 작성\n",
    "\n",
    "# 메딕 만들기 (heal_pow : 6), heal()"
   ]
  },
  {
   "cell_type": "code",
   "execution_count": 86,
   "metadata": {},
   "outputs": [],
   "source": [
    "class Marine:\n",
    "    \n",
    "    def __init__(self, max_health=40, attack_pow=5):\n",
    "        self.health = max_health\n",
    "        self.max_health = max_health\n",
    "        self.attack_pow = attack_pow\n",
    "    \n",
    "    def attack(self, unit):\n",
    "        unit.health -= self.attack_pow\n",
    "        if unit.health <= 0:\n",
    "            unit.health = 0\n",
    "            print(\"사망\")\n",
    "        return unit.health"
   ]
  },
  {
   "cell_type": "code",
   "execution_count": 55,
   "metadata": {},
   "outputs": [],
   "source": [
    "marine_1 = Marine()"
   ]
  },
  {
   "cell_type": "code",
   "execution_count": 56,
   "metadata": {},
   "outputs": [],
   "source": [
    "marine_2 = Marine()"
   ]
  },
  {
   "cell_type": "code",
   "execution_count": 57,
   "metadata": {},
   "outputs": [
    {
     "data": {
      "text/plain": [
       "35"
      ]
     },
     "execution_count": 57,
     "metadata": {},
     "output_type": "execute_result"
    }
   ],
   "source": [
    "marine_2_h = marine_1.attack(marine_2) # 여러번 공격하면 marine_2의 체력이 계속 감소"
   ]
  },
  {
   "cell_type": "code",
   "execution_count": 53,
   "metadata": {},
   "outputs": [
    {
     "data": {
      "text/plain": [
       "(40, 35)"
      ]
     },
     "execution_count": 53,
     "metadata": {},
     "output_type": "execute_result"
    }
   ],
   "source": [
    "marine_1.health, marine_2.health # 40, 35"
   ]
  },
  {
   "cell_type": "code",
   "execution_count": 58,
   "metadata": {},
   "outputs": [
    {
     "data": {
      "text/plain": [
       "(40, 5)"
      ]
     },
     "execution_count": 58,
     "metadata": {},
     "output_type": "execute_result"
    }
   ],
   "source": [
    "marine_1.health, marine_1.attack_pow"
   ]
  },
  {
   "cell_type": "code",
   "execution_count": 87,
   "metadata": {},
   "outputs": [],
   "source": [
    "# 메딕 : heal_pow, heal(unit)\n",
    "class Medic:\n",
    "    \n",
    "    def __init__(self, max_health=40, heal_pow=6):\n",
    "        self.health = max_health\n",
    "        self.max_health = max_health\n",
    "        self.heal_pow = heal_pow\n",
    "        \n",
    "    def heal(self, unit):\n",
    "        if unit.health > 0:\n",
    "            unit.health += self.heal_pow\n",
    "            if unit.health >= unit.max_health:\n",
    "                unit.health = unit.max_health\n",
    "        else:\n",
    "            print(\"이미 사망\")"
   ]
  },
  {
   "cell_type": "code",
   "execution_count": 61,
   "metadata": {},
   "outputs": [],
   "source": [
    "medic = Medic()"
   ]
  },
  {
   "cell_type": "code",
   "execution_count": 76,
   "metadata": {},
   "outputs": [
    {
     "name": "stdout",
     "output_type": "stream",
     "text": [
      "사망\n"
     ]
    },
    {
     "data": {
      "text/plain": [
       "0"
      ]
     },
     "execution_count": 76,
     "metadata": {},
     "output_type": "execute_result"
    }
   ],
   "source": [
    "marine_1.attack(marine_2)"
   ]
  },
  {
   "cell_type": "code",
   "execution_count": 77,
   "metadata": {},
   "outputs": [
    {
     "data": {
      "text/plain": [
       "(40, 0)"
      ]
     },
     "execution_count": 77,
     "metadata": {},
     "output_type": "execute_result"
    }
   ],
   "source": [
    "marine_1.health, marine_2.health"
   ]
  },
  {
   "cell_type": "code",
   "execution_count": 78,
   "metadata": {},
   "outputs": [
    {
     "name": "stdout",
     "output_type": "stream",
     "text": [
      "이미 사망\n"
     ]
    }
   ],
   "source": [
    "medic.heal(marine_2)"
   ]
  },
  {
   "cell_type": "code",
   "execution_count": 83,
   "metadata": {},
   "outputs": [],
   "source": [
    "marine_3 = Marine(attack_pow=25)"
   ]
  },
  {
   "cell_type": "code",
   "execution_count": 84,
   "metadata": {},
   "outputs": [
    {
     "data": {
      "text/plain": [
       "10"
      ]
     },
     "execution_count": 84,
     "metadata": {},
     "output_type": "execute_result"
    }
   ],
   "source": [
    "marine_3.attack(marine_1)"
   ]
  },
  {
   "cell_type": "code",
   "execution_count": 85,
   "metadata": {},
   "outputs": [
    {
     "data": {
      "text/plain": [
       "10"
      ]
     },
     "execution_count": 85,
     "metadata": {},
     "output_type": "execute_result"
    }
   ],
   "source": [
    "marine_1.health"
   ]
  },
  {
   "cell_type": "markdown",
   "metadata": {},
   "source": [
    "### 1. 상속\n",
    "- 클래스의 기능을 가져다가 기능을 수정하거나 추가할때 사용하는 방법"
   ]
  },
  {
   "cell_type": "code",
   "execution_count": 88,
   "metadata": {},
   "outputs": [],
   "source": [
    "class Calculator:\n",
    "    \n",
    "    def __init__(self, num1, num2):\n",
    "        self.num1 = num1\n",
    "        self.num2 = num2\n",
    "        \n",
    "    def plus(self):\n",
    "        return self.num1 + self.num2"
   ]
  },
  {
   "cell_type": "code",
   "execution_count": 90,
   "metadata": {},
   "outputs": [
    {
     "data": {
      "text/plain": [
       "3"
      ]
     },
     "execution_count": 90,
     "metadata": {},
     "output_type": "execute_result"
    }
   ],
   "source": [
    "calc = Calculator(1, 2)\n",
    "calc.plus()"
   ]
  },
  {
   "cell_type": "code",
   "execution_count": 89,
   "metadata": {},
   "outputs": [],
   "source": [
    "# minus 기능을 추가한 계산기"
   ]
  },
  {
   "cell_type": "code",
   "execution_count": 92,
   "metadata": {},
   "outputs": [],
   "source": [
    "class Calculator2:\n",
    "    \n",
    "    def __init__(self, num1, num2):\n",
    "        self.num1 = num1\n",
    "        self.num2 = num2\n",
    "        \n",
    "    def plus(self):\n",
    "        return self.num1 + self.num2\n",
    "    \n",
    "    def minus(self):\n",
    "        return self.num1 - self.num2"
   ]
  },
  {
   "cell_type": "code",
   "execution_count": 93,
   "metadata": {},
   "outputs": [],
   "source": [
    "calc2 = Calculator2(1, 2)"
   ]
  },
  {
   "cell_type": "code",
   "execution_count": 94,
   "metadata": {},
   "outputs": [
    {
     "data": {
      "text/plain": [
       "(3, -1)"
      ]
     },
     "execution_count": 94,
     "metadata": {},
     "output_type": "execute_result"
    }
   ],
   "source": [
    "calc2.plus(), calc2.minus()"
   ]
  },
  {
   "cell_type": "code",
   "execution_count": 102,
   "metadata": {},
   "outputs": [],
   "source": [
    "# 상속을 사용하여 minus 함수 추가\n",
    "class Calulator(Calculator):\n",
    "    def minus(self):\n",
    "        return self.num1 - self.num2"
   ]
  },
  {
   "cell_type": "code",
   "execution_count": 96,
   "metadata": {},
   "outputs": [],
   "source": [
    "calc3 = Calulator3(1, 2)"
   ]
  },
  {
   "cell_type": "code",
   "execution_count": 97,
   "metadata": {},
   "outputs": [
    {
     "data": {
      "text/plain": [
       "(3, -1)"
      ]
     },
     "execution_count": 97,
     "metadata": {},
     "output_type": "execute_result"
    }
   ],
   "source": [
    "calc3.plus(), calc3.minus()"
   ]
  },
  {
   "cell_type": "code",
   "execution_count": 99,
   "metadata": {},
   "outputs": [],
   "source": [
    "# 메서드 오버라이딩\n",
    "class Calulator4(Calulator3):\n",
    "    def plus(self):\n",
    "        return self.num1**2 + self.num2**2"
   ]
  },
  {
   "cell_type": "code",
   "execution_count": 100,
   "metadata": {},
   "outputs": [],
   "source": [
    "calc4 = Calulator4(1, 2)"
   ]
  },
  {
   "cell_type": "code",
   "execution_count": 101,
   "metadata": {},
   "outputs": [
    {
     "data": {
      "text/plain": [
       "5"
      ]
     },
     "execution_count": 101,
     "metadata": {},
     "output_type": "execute_result"
    }
   ],
   "source": [
    "calc4.plus()"
   ]
  },
  {
   "cell_type": "code",
   "execution_count": 1,
   "metadata": {},
   "outputs": [],
   "source": [
    "# 아이폰 1, 2, 3 버전의 클래스를 생성하세요.\n",
    "# 아이폰 1 : calling : print(\"calling\")\n",
    "# 아이폰 2 : calling, send msg\n",
    "# 아이폰 3 : calling, send msg, internet"
   ]
  },
  {
   "cell_type": "code",
   "execution_count": 2,
   "metadata": {},
   "outputs": [],
   "source": [
    "class Iphone1:\n",
    "    def calling(self):\n",
    "        print(\"calling\")"
   ]
  },
  {
   "cell_type": "code",
   "execution_count": 3,
   "metadata": {},
   "outputs": [],
   "source": [
    "class Iphone2(Iphone1):\n",
    "    def send_msg(self):\n",
    "        print(\"send_msg\")"
   ]
  },
  {
   "cell_type": "code",
   "execution_count": 4,
   "metadata": {},
   "outputs": [],
   "source": [
    "class Iphone3(Iphone2):\n",
    "    def internet(self):\n",
    "        print(\"internet\")"
   ]
  },
  {
   "cell_type": "code",
   "execution_count": 5,
   "metadata": {},
   "outputs": [],
   "source": [
    "iphone3 = Iphone3()"
   ]
  },
  {
   "cell_type": "code",
   "execution_count": 6,
   "metadata": {},
   "outputs": [
    {
     "name": "stdout",
     "output_type": "stream",
     "text": [
      "calling\n",
      "send_msg\n",
      "internet\n"
     ]
    },
    {
     "data": {
      "text/plain": [
       "(None, None, None)"
      ]
     },
     "execution_count": 6,
     "metadata": {},
     "output_type": "execute_result"
    }
   ],
   "source": [
    "iphone3.calling(), iphone3.send_msg(), iphone3.internet()"
   ]
  },
  {
   "cell_type": "markdown",
   "metadata": {},
   "source": [
    "#### 다중 상속"
   ]
  },
  {
   "cell_type": "code",
   "execution_count": 7,
   "metadata": {},
   "outputs": [],
   "source": [
    "class Galuxy:\n",
    "    def show_img(self):\n",
    "        print(\"show_img\")"
   ]
  },
  {
   "cell_type": "code",
   "execution_count": 8,
   "metadata": {},
   "outputs": [],
   "source": [
    "class DssPhone(Iphone3, Galuxy):\n",
    "    def camera(self):\n",
    "        print(\"camera\")"
   ]
  },
  {
   "cell_type": "code",
   "execution_count": 9,
   "metadata": {},
   "outputs": [],
   "source": [
    "dss_phone = DssPhone()"
   ]
  },
  {
   "cell_type": "code",
   "execution_count": 10,
   "metadata": {},
   "outputs": [
    {
     "data": {
      "text/plain": [
       "['calling', 'camera', 'internet', 'send_msg', 'show_img']"
      ]
     },
     "execution_count": 10,
     "metadata": {},
     "output_type": "execute_result"
    }
   ],
   "source": [
    "[func for func in dir(dss_phone) if func[:2] != \"__\"]"
   ]
  },
  {
   "cell_type": "markdown",
   "metadata": {},
   "source": [
    "### 2. super\n",
    "- 부모 클래스에서 사용된 함수의 코드를 가져다가 자식 클래스의 함수에서 재사용할때 사용\n",
    "\n",
    "```\n",
    "class A:\n",
    "    def plus(self):\n",
    "        code1\n",
    "\n",
    "class B(A):\n",
    "    def minus(self):\n",
    "        code1 # super().plus()\n",
    "        code2\n",
    "```"
   ]
  },
  {
   "cell_type": "code",
   "execution_count": 26,
   "metadata": {},
   "outputs": [],
   "source": [
    "class Marine:\n",
    "    \n",
    "    def __init__(self):\n",
    "        self.health = 40\n",
    "        self.attack_pow = 5\n",
    "    \n",
    "    def attack(self, unit):\n",
    "        unit.health -= self.attack_pow\n",
    "        if unit.health <= 0:\n",
    "            unit.health = 0"
   ]
  },
  {
   "cell_type": "code",
   "execution_count": 32,
   "metadata": {},
   "outputs": [],
   "source": [
    "class Marine2(Marine):\n",
    "    \n",
    "    def __init__(self):\n",
    "#         self.health = 40\n",
    "#         self.attack_pow = 5\n",
    "        super().__init__()\n",
    "        self.max_health = 40"
   ]
  },
  {
   "cell_type": "code",
   "execution_count": 33,
   "metadata": {},
   "outputs": [],
   "source": [
    "marine = Marine2()"
   ]
  },
  {
   "cell_type": "code",
   "execution_count": 36,
   "metadata": {},
   "outputs": [
    {
     "data": {
      "text/plain": [
       "(40, 5, 40)"
      ]
     },
     "execution_count": 36,
     "metadata": {},
     "output_type": "execute_result"
    }
   ],
   "source": [
    "marine.health, marine.attack_pow, marine.max_health"
   ]
  },
  {
   "cell_type": "markdown",
   "metadata": {},
   "source": [
    "### 3. class의 getter, setter\n",
    "- 객체의 내부 변수에 접근할때 특정 로직을 거쳐서 접근시키는 방법"
   ]
  },
  {
   "cell_type": "code",
   "execution_count": 81,
   "metadata": {},
   "outputs": [],
   "source": [
    "class User:\n",
    "    \n",
    "    def __init__(self, first_name):\n",
    "        self.first_name = first_name\n",
    "    \n",
    "    def setter(self, first_name):\n",
    "        if len(first_name) >=  3:\n",
    "            self.first_name = first_name\n",
    "        else:\n",
    "            print(\"error\")\n",
    "        \n",
    "    def getter(self):        \n",
    "        print(\"getter\")\n",
    "        return self.first_name.upper()\n",
    "    \n",
    "    name = property(getter, setter)"
   ]
  },
  {
   "cell_type": "code",
   "execution_count": 82,
   "metadata": {},
   "outputs": [],
   "source": [
    "user1 = User(\"andy\")"
   ]
  },
  {
   "cell_type": "code",
   "execution_count": 83,
   "metadata": {},
   "outputs": [
    {
     "data": {
      "text/plain": [
       "'andy'"
      ]
     },
     "execution_count": 83,
     "metadata": {},
     "output_type": "execute_result"
    }
   ],
   "source": [
    "user1.first_name"
   ]
  },
  {
   "cell_type": "code",
   "execution_count": 84,
   "metadata": {},
   "outputs": [],
   "source": [
    "# setter 함수 실행\n",
    "user1.name = \"jhon\""
   ]
  },
  {
   "cell_type": "code",
   "execution_count": 85,
   "metadata": {},
   "outputs": [
    {
     "data": {
      "text/plain": [
       "'jhon'"
      ]
     },
     "execution_count": 85,
     "metadata": {},
     "output_type": "execute_result"
    }
   ],
   "source": [
    "user1.first_name"
   ]
  },
  {
   "cell_type": "code",
   "execution_count": 86,
   "metadata": {},
   "outputs": [
    {
     "name": "stdout",
     "output_type": "stream",
     "text": [
      "getter\n"
     ]
    },
    {
     "data": {
      "text/plain": [
       "'JHON'"
      ]
     },
     "execution_count": 86,
     "metadata": {},
     "output_type": "execute_result"
    }
   ],
   "source": [
    "# getter 함수 실행\n",
    "user1.name"
   ]
  },
  {
   "cell_type": "markdown",
   "metadata": {},
   "source": [
    "### 4. non public\n",
    "- mangling 이라는 방법으로 다이렉트로 객체의 변수에 접근하지 못하게 하는 방법"
   ]
  },
  {
   "cell_type": "code",
   "execution_count": 207,
   "metadata": {},
   "outputs": [],
   "source": [
    "class Calculator:\n",
    "    \n",
    "    def __init__(self, num1, num2):\n",
    "        self.num1 = num1\n",
    "        self.__num2 = num2\n",
    "\n",
    "    def getter(self):\n",
    "        return self.__num2\n",
    "    \n",
    "    # num2에 0이 들어가지 않도록 함\n",
    "    def setter(self, num2):\n",
    "        num2 = 1 if num2 == 0 else num2\n",
    "        self.__num2 = num2\n",
    "    \n",
    "    def __disp(self):\n",
    "        print(self.num1, self.__num2)\n",
    "    \n",
    "    def div(self):\n",
    "        self.__disp()\n",
    "        return self.num1 / self.__num2\n",
    "    \n",
    "    number2 = property(getter, setter)"
   ]
  },
  {
   "cell_type": "code",
   "execution_count": 208,
   "metadata": {},
   "outputs": [],
   "source": [
    "calc = Calculator(1, 2)"
   ]
  },
  {
   "cell_type": "code",
   "execution_count": 209,
   "metadata": {},
   "outputs": [
    {
     "name": "stdout",
     "output_type": "stream",
     "text": [
      "1 2\n"
     ]
    },
    {
     "data": {
      "text/plain": [
       "0.5"
      ]
     },
     "execution_count": 209,
     "metadata": {},
     "output_type": "execute_result"
    }
   ],
   "source": [
    "calc.div()"
   ]
  },
  {
   "cell_type": "code",
   "execution_count": 210,
   "metadata": {},
   "outputs": [
    {
     "data": {
      "text/plain": [
       "2"
      ]
     },
     "execution_count": 210,
     "metadata": {},
     "output_type": "execute_result"
    }
   ],
   "source": [
    "calc.number2"
   ]
  },
  {
   "cell_type": "code",
   "execution_count": 211,
   "metadata": {},
   "outputs": [],
   "source": [
    "calc.number2 = 0"
   ]
  },
  {
   "cell_type": "code",
   "execution_count": 212,
   "metadata": {},
   "outputs": [
    {
     "data": {
      "text/plain": [
       "1"
      ]
     },
     "execution_count": 212,
     "metadata": {},
     "output_type": "execute_result"
    }
   ],
   "source": [
    "calc.number2"
   ]
  },
  {
   "cell_type": "code",
   "execution_count": 213,
   "metadata": {},
   "outputs": [
    {
     "ename": "AttributeError",
     "evalue": "'Calculator' object has no attribute '__num2'",
     "output_type": "error",
     "traceback": [
      "\u001b[0;31m---------------------------------------------------------------------------\u001b[0m",
      "\u001b[0;31mAttributeError\u001b[0m                            Traceback (most recent call last)",
      "\u001b[0;32m<ipython-input-213-9422eadacb85>\u001b[0m in \u001b[0;36m<module>\u001b[0;34m\u001b[0m\n\u001b[0;32m----> 1\u001b[0;31m \u001b[0mcalc\u001b[0m\u001b[0;34m.\u001b[0m\u001b[0m__num2\u001b[0m\u001b[0;34m\u001b[0m\u001b[0;34m\u001b[0m\u001b[0m\n\u001b[0m",
      "\u001b[0;31mAttributeError\u001b[0m: 'Calculator' object has no attribute '__num2'"
     ]
    }
   ],
   "source": [
    "calc.__num2"
   ]
  },
  {
   "cell_type": "code",
   "execution_count": 214,
   "metadata": {},
   "outputs": [],
   "source": [
    "calc.__num2 = 0"
   ]
  },
  {
   "cell_type": "code",
   "execution_count": 215,
   "metadata": {},
   "outputs": [
    {
     "data": {
      "text/plain": [
       "0"
      ]
     },
     "execution_count": 215,
     "metadata": {},
     "output_type": "execute_result"
    }
   ],
   "source": [
    "calc.__num2"
   ]
  },
  {
   "cell_type": "code",
   "execution_count": 216,
   "metadata": {},
   "outputs": [
    {
     "data": {
      "text/plain": [
       "1"
      ]
     },
     "execution_count": 216,
     "metadata": {},
     "output_type": "execute_result"
    }
   ],
   "source": [
    "calc._Calculator__num2"
   ]
  },
  {
   "cell_type": "code",
   "execution_count": 217,
   "metadata": {},
   "outputs": [],
   "source": [
    "calc.num2 = 0"
   ]
  },
  {
   "cell_type": "code",
   "execution_count": 218,
   "metadata": {},
   "outputs": [
    {
     "name": "stdout",
     "output_type": "stream",
     "text": [
      "1 1\n"
     ]
    },
    {
     "data": {
      "text/plain": [
       "1.0"
      ]
     },
     "execution_count": 218,
     "metadata": {},
     "output_type": "execute_result"
    }
   ],
   "source": [
    "calc.div()"
   ]
  },
  {
   "cell_type": "code",
   "execution_count": 219,
   "metadata": {},
   "outputs": [
    {
     "ename": "AttributeError",
     "evalue": "'Calculator' object has no attribute '__disp'",
     "output_type": "error",
     "traceback": [
      "\u001b[0;31m---------------------------------------------------------------------------\u001b[0m",
      "\u001b[0;31mAttributeError\u001b[0m                            Traceback (most recent call last)",
      "\u001b[0;32m<ipython-input-219-1997f957eed5>\u001b[0m in \u001b[0;36m<module>\u001b[0;34m\u001b[0m\n\u001b[0;32m----> 1\u001b[0;31m \u001b[0mcalc\u001b[0m\u001b[0;34m.\u001b[0m\u001b[0m__disp\u001b[0m\u001b[0;34m(\u001b[0m\u001b[0;34m)\u001b[0m\u001b[0;34m\u001b[0m\u001b[0;34m\u001b[0m\u001b[0m\n\u001b[0m",
      "\u001b[0;31mAttributeError\u001b[0m: 'Calculator' object has no attribute '__disp'"
     ]
    }
   ],
   "source": [
    "calc.__disp()"
   ]
  },
  {
   "cell_type": "code",
   "execution_count": 220,
   "metadata": {},
   "outputs": [
    {
     "name": "stdout",
     "output_type": "stream",
     "text": [
      "1 1\n"
     ]
    }
   ],
   "source": [
    "calc._Calculator__disp()"
   ]
  },
  {
   "cell_type": "markdown",
   "metadata": {},
   "source": [
    "### 5. is a & has a\n",
    "- 클래스를 설계하는 개념\n",
    "- A is a B\n",
    "    - A는 B이다. 상속을 이용해서 클래스를 만드는 방법\n",
    "- A has a B\n",
    "    - A는 B를 가진다. A가 B객체를 가지고 클래스를 만드는 방법"
   ]
  },
  {
   "cell_type": "code",
   "execution_count": 221,
   "metadata": {},
   "outputs": [],
   "source": [
    "# 사람 : 이름, 이메일, 정보출력()"
   ]
  },
  {
   "cell_type": "code",
   "execution_count": 222,
   "metadata": {},
   "outputs": [],
   "source": [
    "# is a\n",
    "class Person:\n",
    "    def __init__(self, name, email):\n",
    "        self.name = name\n",
    "        self.email = email"
   ]
  },
  {
   "cell_type": "code",
   "execution_count": 223,
   "metadata": {},
   "outputs": [],
   "source": [
    "class Person2(Person):\n",
    "    def info(self):\n",
    "        print(self.name, self.email)"
   ]
  },
  {
   "cell_type": "code",
   "execution_count": 224,
   "metadata": {},
   "outputs": [],
   "source": [
    "p = Person2(\"andy\", \"andy@gmail.com\")"
   ]
  },
  {
   "cell_type": "code",
   "execution_count": 225,
   "metadata": {},
   "outputs": [
    {
     "name": "stdout",
     "output_type": "stream",
     "text": [
      "andy andy@gmail.com\n"
     ]
    }
   ],
   "source": [
    "p.info()"
   ]
  },
  {
   "cell_type": "code",
   "execution_count": 226,
   "metadata": {},
   "outputs": [],
   "source": [
    "# has a\n",
    "class Name:\n",
    "    def __init__(self, name):\n",
    "        self.name_str = name\n",
    "class Email:\n",
    "    def __init__(self, email):\n",
    "        self.email_str = email"
   ]
  },
  {
   "cell_type": "code",
   "execution_count": 227,
   "metadata": {},
   "outputs": [],
   "source": [
    "class Person:\n",
    "    def __init__(self, name_obj, email_obj):\n",
    "        self.name = name_obj\n",
    "        self.email = email_obj\n",
    "    def info(self):\n",
    "        print(name.name_str, email.email_str)"
   ]
  },
  {
   "cell_type": "code",
   "execution_count": 228,
   "metadata": {},
   "outputs": [],
   "source": [
    "name = Name(\"andy\")\n",
    "email = Email(\"andy@gmail.com\")\n",
    "p = Person(name, email)"
   ]
  },
  {
   "cell_type": "code",
   "execution_count": 229,
   "metadata": {},
   "outputs": [
    {
     "name": "stdout",
     "output_type": "stream",
     "text": [
      "andy andy@gmail.com\n"
     ]
    }
   ],
   "source": [
    "p.info()"
   ]
  },
  {
   "cell_type": "markdown",
   "metadata": {},
   "source": [
    "### Magic(Spacial) Method\n",
    "- compare\n",
    "    - `__eq__` : ==\n",
    "    - `__ne__` : !=\n",
    "    - `__lt__` : <\n",
    "- calculate\n",
    "    - `__add__` : + \n",
    "    - `__sub__` : -\n",
    "- `__repr__` : 객체의 내용을 출력(개발자용)\n",
    "- `__str__`  : 객체의 내용을 출력"
   ]
  },
  {
   "cell_type": "code",
   "execution_count": 233,
   "metadata": {},
   "outputs": [
    {
     "data": {
      "text/plain": [
       "True"
      ]
     },
     "execution_count": 233,
     "metadata": {},
     "output_type": "execute_result"
    }
   ],
   "source": [
    "\"test\" == \"test\""
   ]
  },
  {
   "cell_type": "code",
   "execution_count": 234,
   "metadata": {},
   "outputs": [
    {
     "data": {
      "text/plain": [
       "True"
      ]
     },
     "execution_count": 234,
     "metadata": {},
     "output_type": "execute_result"
    }
   ],
   "source": [
    "\"test\".__eq__(\"test\")"
   ]
  },
  {
   "cell_type": "code",
   "execution_count": 235,
   "metadata": {},
   "outputs": [
    {
     "data": {
      "text/plain": [
       "3"
      ]
     },
     "execution_count": 235,
     "metadata": {},
     "output_type": "execute_result"
    }
   ],
   "source": [
    "1 + 2"
   ]
  },
  {
   "cell_type": "code",
   "execution_count": 236,
   "metadata": {},
   "outputs": [
    {
     "data": {
      "text/plain": [
       "'12'"
      ]
     },
     "execution_count": 236,
     "metadata": {},
     "output_type": "execute_result"
    }
   ],
   "source": [
    "\"1\" + \"2\""
   ]
  },
  {
   "cell_type": "code",
   "execution_count": 247,
   "metadata": {},
   "outputs": [],
   "source": [
    "class Txt:\n",
    "    def __init__(self, txt):\n",
    "        self.txt = txt\n",
    "        \n",
    "    def __eq__(self, txt_obj):\n",
    "        return self.txt.lower() == txt_obj.txt.lower()\n",
    "    \n",
    "    def __repr__(self):\n",
    "        return \"Txt(txt={})\".format(self.txt)\n",
    "    \n",
    "    def __str__(self):\n",
    "        return self.txt"
   ]
  },
  {
   "cell_type": "code",
   "execution_count": 248,
   "metadata": {},
   "outputs": [],
   "source": [
    "t1 = Txt(\"python\")\n",
    "t2 = Txt(\"Python\")\n",
    "t3 = t1"
   ]
  },
  {
   "cell_type": "code",
   "execution_count": 249,
   "metadata": {},
   "outputs": [
    {
     "data": {
      "text/plain": [
       "(True, True, True)"
      ]
     },
     "execution_count": 249,
     "metadata": {},
     "output_type": "execute_result"
    }
   ],
   "source": [
    "t1 == t2, t1 == t3, t2 == t3"
   ]
  },
  {
   "cell_type": "code",
   "execution_count": 250,
   "metadata": {},
   "outputs": [
    {
     "data": {
      "text/plain": [
       "Txt(txt=python)"
      ]
     },
     "execution_count": 250,
     "metadata": {},
     "output_type": "execute_result"
    }
   ],
   "source": [
    "t1"
   ]
  },
  {
   "cell_type": "code",
   "execution_count": 251,
   "metadata": {},
   "outputs": [
    {
     "name": "stdout",
     "output_type": "stream",
     "text": [
      "python\n"
     ]
    }
   ],
   "source": [
    "print(t1)"
   ]
  },
  {
   "cell_type": "code",
   "execution_count": 252,
   "metadata": {},
   "outputs": [
    {
     "data": {
      "text/plain": [
       "range(0, 5)"
      ]
     },
     "execution_count": 252,
     "metadata": {},
     "output_type": "execute_result"
    }
   ],
   "source": [
    "range(5)"
   ]
  },
  {
   "cell_type": "code",
   "execution_count": null,
   "metadata": {},
   "outputs": [],
   "source": []
  },
  {
   "cell_type": "code",
   "execution_count": null,
   "metadata": {},
   "outputs": [],
   "source": []
  },
  {
   "cell_type": "code",
   "execution_count": null,
   "metadata": {},
   "outputs": [],
   "source": []
  },
  {
   "cell_type": "code",
   "execution_count": null,
   "metadata": {},
   "outputs": [],
   "source": []
  }
 ],
 "metadata": {
  "blpn": {
   "base_numbering": 1,
   "blpnPosition": {
    "height": "calc(100% - 180px)",
    "right": "10px",
    "top": "150px",
    "width": "50%"
   },
   "blpn_cell": false,
   "blpn_section_display": true,
   "blpn_window_display": false,
   "nav_menu": {},
   "number_sections": true,
   "sideBar": true,
   "title_cell": "BlackPen 0.1.8",
   "title_sidebar": "BlackPen 0.1.8"
  },
  "kernelspec": {
   "display_name": "Python 3",
   "language": "python",
   "name": "python3"
  },
  "language_info": {
   "codemirror_mode": {
    "name": "ipython",
    "version": 3
   },
   "file_extension": ".py",
   "mimetype": "text/x-python",
   "name": "python",
   "nbconvert_exporter": "python",
   "pygments_lexer": "ipython3",
   "version": "3.7.6"
  },
  "license": "Copyright 2019. Doo Jin Park. All rights reserved."
 },
 "nbformat": 4,
 "nbformat_minor": 2
}
